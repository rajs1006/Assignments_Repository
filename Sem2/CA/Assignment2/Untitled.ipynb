{
 "cells": [
  {
   "cell_type": "code",
   "execution_count": 186,
   "metadata": {},
   "outputs": [],
   "source": [
    "import scipy as sp\n",
    "import scipy.io as io\n",
    "from scipy.linalg import inv\n",
    "import pylab as pl\n",
    "import numpy as np\n",
    "%matplotlib inline\n",
    "\n",
    "def train_lda(X,Y):\n",
    "    ''' Trains a linear discriminant analysis\n",
    "    Definition:  w, b   = train_lda(X,Y)\n",
    "    Input:       X       -  DxN array of N data points with D features\n",
    "                 Y       -  1D array of length N of class labels {-1, 1}\n",
    "    Output:      w       -  1D array of length D, weight vector  \n",
    "                 b       -  bias term for linear classification                          \n",
    "    '''\n",
    "    \n",
    "    XPos = X[:,Y>0];\n",
    "    XNeg = X[:,Y<0];\n",
    "    \n",
    "    meanPos = sp.mean(XPos,axis=1)\n",
    "    meanNeg = sp.mean(XNeg,axis=1)\n",
    "    \n",
    "    SB = sp.dot((meanPos-meanNeg),(meanPos-meanNeg).T)\n",
    "    SW = np.cov(XPos) + np.cov(XNeg)\n",
    "    \n",
    "    w = sp.linalg.inv(SW).dot(SB);\n",
    "    b = (w.dot(meanPos) + w.dot(meanNeg))/2\n",
    "    \n",
    "    return w,b\n",
    "\n"
   ]
  },
  {
   "cell_type": "code",
   "execution_count": 187,
   "metadata": {},
   "outputs": [],
   "source": [
    "N =500\n",
    "cov = sp.array([[5, 0], [0, 0.5]])\n",
    "#cov = sp.array([[10, 0], [0, 10]])\n",
    "x1 = sp.random.multivariate_normal([-0.5, -0.5], cov, N) \n",
    "x2 = sp.random.multivariate_normal([2.5, 0.5], cov, N) \n",
    "X = sp.vstack((x1, x2)).transpose()\n",
    "Y = sp.hstack((sp.ones((N)), -1*sp.ones((N))))\n",
    "\n",
    "w_lda,b_lda = train_lda(X,Y)"
   ]
  },
  {
   "cell_type": "code",
   "execution_count": 159,
   "metadata": {},
   "outputs": [
    {
     "name": "stdout",
     "output_type": "stream",
     "text": [
      "[[ 1.  1.]] [[ 1.]\n",
      " [ 1.]\n",
      " [ 1.]] [[ 2.  2.]\n",
      " [ 2.  2.]\n",
      " [ 2.  2.]]\n"
     ]
    }
   ],
   "source": [
    "np.ones((3, 1)) + np.ones((1, 2))\n",
    "print (np.ones((1, 2)),np.ones((3, 1)),np.ones((3, 2)) + np.ones((1, 2)))"
   ]
  },
  {
   "cell_type": "code",
   "execution_count": null,
   "metadata": {
    "collapsed": true
   },
   "outputs": [],
   "source": []
  },
  {
   "cell_type": "code",
   "execution_count": null,
   "metadata": {
    "collapsed": true
   },
   "outputs": [],
   "source": []
  }
 ],
 "metadata": {
  "kernelspec": {
   "display_name": "Python 3",
   "language": "python",
   "name": "python3"
  },
  "language_info": {
   "codemirror_mode": {
    "name": "ipython",
    "version": 3
   },
   "file_extension": ".py",
   "mimetype": "text/x-python",
   "name": "python",
   "nbconvert_exporter": "python",
   "pygments_lexer": "ipython3",
   "version": "3.6.3"
  }
 },
 "nbformat": 4,
 "nbformat_minor": 2
}
