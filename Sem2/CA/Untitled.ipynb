{
 "cells": [
  {
   "cell_type": "code",
   "execution_count": 18,
   "metadata": {},
   "outputs": [
    {
     "name": "stdout",
     "output_type": "stream",
     "text": [
      "U   :   [[-0.55049101 -0.83484109]\n",
      " [-0.83484109  0.55049101]]\n",
      "Svals   :   [ 9.62780549  1.14252412]\n",
      "PCS   :   [[-0.97957772 -0.20106587]\n",
      " [ 0.20106587 -0.97957772]]\n"
     ]
    }
   ],
   "source": [
    "import numpy as np\n",
    "\n",
    "D = np.matrix([[5, 2], [8, 1]])\n",
    "\n",
    "u, svals, pcs = np.linalg.svd(D, full_matrices=False)\n",
    "print (\"U   :  \",u)\n",
    "print (\"Svals   :  \",svals)\n",
    "print (\"PCS   :  \",pcs)"
   ]
  },
  {
   "cell_type": "code",
   "execution_count": 37,
   "metadata": {},
   "outputs": [
    {
     "name": "stdout",
     "output_type": "stream",
     "text": [
      "4.0\n",
      "[[-1.5  0.5]\n",
      " [ 1.5 -0.5]]\n",
      "-------------------------\n",
      "[[ 2. -2.]\n",
      " [-2.  2.]]\n",
      "-------------------------\n",
      "[[-6.  2.]\n",
      " [ 6. -2.]]\n"
     ]
    }
   ],
   "source": [
    "import numpy as np\n",
    "\n",
    "D = np.matrix([[5, 2], [8, 1]])\n",
    "print (D.mean())\n",
    "D = D - D.mean(0)\n",
    "cov = np.cov(D)\n",
    "print (D)\n",
    "print (\"-------------------------\")\n",
    "print (cov)\n",
    "print (\"-------------------------\")\n",
    "print (cov * D)"
   ]
  },
  {
   "cell_type": "code",
   "execution_count": 10,
   "metadata": {},
   "outputs": [
    {
     "name": "stdout",
     "output_type": "stream",
     "text": [
      "[[0]\n",
      " [5]]\n",
      "[[0 2]]\n"
     ]
    },
    {
     "data": {
      "text/plain": [
       "matrix([[ 0],\n",
       "        [10]])"
      ]
     },
     "execution_count": 10,
     "metadata": {},
     "output_type": "execute_result"
    }
   ],
   "source": [
    "import numpy as np\n",
    "C = np.matrix([[0, 0],[0,2]])\n",
    "D = np.matrix([[0], [5]])\n",
    "print(D)\n",
    "print(C[1])\n",
    "C*D"
   ]
  },
  {
   "cell_type": "code",
   "execution_count": null,
   "metadata": {
    "collapsed": true
   },
   "outputs": [],
   "source": []
  },
  {
   "cell_type": "code",
   "execution_count": null,
   "metadata": {
    "collapsed": true
   },
   "outputs": [],
   "source": []
  }
 ],
 "metadata": {
  "kernelspec": {
   "display_name": "Python 3",
   "language": "python",
   "name": "python3"
  },
  "language_info": {
   "codemirror_mode": {
    "name": "ipython",
    "version": 3
   },
   "file_extension": ".py",
   "mimetype": "text/x-python",
   "name": "python",
   "nbconvert_exporter": "python",
   "pygments_lexer": "ipython3",
   "version": "3.6.3"
  }
 },
 "nbformat": 4,
 "nbformat_minor": 2
}
