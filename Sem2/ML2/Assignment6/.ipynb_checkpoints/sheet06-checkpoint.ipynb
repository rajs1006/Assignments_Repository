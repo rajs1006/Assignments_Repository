{
 "cells": [
  {
   "cell_type": "markdown",
   "metadata": {},
   "source": [
    "# Programming Hidden Markov Models (60 P)\n",
    "\n",
    "In this exercise, you will experiment with hidden Markov models, in particular, applying them to modeling character sequences, and analyzing the learned solution. As a starting point, you are provided in the file `hmm.py` with a basic implementation of an HMM and of the Baum-Welch training algorithm. The names of variables used in the code and the references to equations are taken from the HMM paper by Rabiner et al. downloable from ISIS. In addition to the variables described in this paper, we use two additional variables: $Z$ for the emission probabilities of observations $O$, and $\\psi$ (i.e. psi) for collecting the statistics of Equation (40c).\n"
   ]
  },
  {
   "cell_type": "markdown",
   "metadata": {},
   "source": [
    "##Question 1: Analysis of a small HMM (30 P)\n",
    "\n",
    "We first look at a toy example of an HMM trained on a binary sequence. The training procedure below consists of 100 iterations of the Baum-Welch procedure. It runs the HMM learning algorithm for some toy binary data and prints the parameters learned by the HMM (i.e. matrices $A$ and $B$).\n",
    "\n",
    "###Question 1a: Qualitative Analysis (15 P)\n",
    "\n",
    "* *Run* the code several times to check that the behavior is consistent.\n",
    "* *Describe* qualitatively the solution $A,B$ learned by the model.\n",
    "* *Explain* how the solution $\\lambda = (A,B)$ relates to the sequence of observations $O$ that has been modeled.\n"
   ]
  },
  {
   "cell_type": "code",
   "execution_count": 3,
   "metadata": {
    "scrolled": true
   },
   "outputs": [
    {
     "name": "stdout",
     "output_type": "stream",
     "text": [
      "A\n",
      "0.000 0.000 0.000 1.000\n",
      "0.000 0.000 1.000 0.000\n",
      "1.000 0.000 0.000 0.000\n",
      "0.000 1.000 0.000 0.000\n",
      " \n",
      "B\n",
      "0.880 0.120\n",
      "0.720 0.280\n",
      "0.800 0.200\n",
      "0.000 1.000\n",
      " \n",
      "Pi\n",
      "0.000\n",
      "0.000\n",
      "0.000\n",
      "1.000\n"
     ]
    }
   ],
   "source": [
    "import numpy,hmm\n",
    "\n",
    "O = numpy.array([1,0,1,0,1,1,0,0,1,0,0,0,1,1,1,0,1,0,0,0,1,1,0,1,1,0,0,1,1,\n",
    "                 0,0,0,1,0,0,0,1,1,0,0,1,0,0,1,1,0,0,0,1,0,1,0,1,0,0,0,1,0,\n",
    "                 0,0,1,0,1,0,1,0,0,0,1,1,1,0,1,0,0,0,1,0,0,0,1,0,1,0,1,0,0,\n",
    "                 0,1,1,1,0,1,0,0,0,1,0,0,0,1,0,0,0,1,0,0,0,1,1,0,0,1,0,1,1,\n",
    "                 1,0,0,0,1,1,0,0,1,0,1,1,1,0,0,1,1,0,0,0,1,1,0,0,1,1,0,0,1,\n",
    "                 0,0,0,1,0,0,0,1,0,0,0,1,0,0,0,1,0,1,0,1,0,0,0,1,0,0,0,1,0,\n",
    "                 0,0,1,0,0,0,1,1,0,0,1,1,0,0,1,1,0,0,1,0,0,0,1,1,0,0])\n",
    "\n",
    " \n",
    "hmmtoy = hmm.HMM(4,2)\n",
    "\n",
    "for k in range(100):\n",
    "    hmmtoy.loaddata(O)\n",
    "    hmmtoy.forward()\n",
    "    hmmtoy.backward()\n",
    "    hmmtoy.learn()\n",
    "\n",
    "print('A')\n",
    "print(\"\\n\".join([\" \".join(['%.3f'%a for a in aa]) for aa in hmmtoy.A]))\n",
    "print(' ')\n",
    "print('B')\n",
    "print(\"\\n\".join([\" \".join(['%.3f'%b for b in bb]) for bb in hmmtoy.B]))\n",
    "print(' ')\n",
    "print('Pi')\n",
    "print(\"\\n\".join(['%.3f'%b for b in hmmtoy.Pi]))\n"
   ]
  },
  {
   "cell_type": "markdown",
   "metadata": {
    "collapsed": true
   },
   "source": [
    "$Solution 1a :$  \n",
    "  \n",
    "* from  the result of the code, we know that there are four hidden state in model, one state will 100 percent transfer to   next state in next round and set up a state cycle. from matrix B, we can know that one of the state only emmiss \"1\", and the other 3 states have around 80 percent probability to emiss \"0\". Combine with lamda and observation sequence, we can infer that \"0\" is more consistent than \"1\" and there must be a \"1\" every 4 element if we set the first element in the observation sequence as the starting point "
   ]
  },
  {
   "cell_type": "code",
   "execution_count": 43,
   "metadata": {},
   "outputs": [
    {
     "name": "stdout",
     "output_type": "stream",
     "text": [
      "probablity same as B : \n",
      "\n",
      "1.0  0.0\n",
      "0.28  0.72\n",
      "0.2  0.8\n",
      "0.12  0.88\n"
     ]
    }
   ],
   "source": [
    "print('probablity same as B : ')\n",
    "print()\n",
    "for i in range(4):\n",
    "    h = sum(O[i::4])/float(len(O[i::4]))\n",
    "    t = 1 - h\n",
    "    print (h,\"\",t)"
   ]
  },
  {
   "cell_type": "markdown",
   "metadata": {},
   "source": [
    "* As you can see the distribution after every fourth flip is as same as B."
   ]
  },
  {
   "cell_type": "markdown",
   "metadata": {},
   "source": [
    "###Question 1b: Finding the best number $N$ of hidden states (15 P)\n",
    "\n",
    "For the same sequence of observations as in Question 1a, we would like to determine automatically what is a good number of hidden states $N = \\mathrm{card}(S)$ for the model.\n",
    "\n",
    "* *Split* the sequence of observations into a training and test set (you can assume stationarity).\n",
    "* *Train* the model on the training set for several iteration (e.g. 100 iterations) and for multiple parameter $N$.\n",
    "* *Show* for each choice of parameter $N$ the log-probability $\\log p(O | \\lambda)$ for the test set. (If the results are unstable, perform several trials of the same experiment for each parameter $N$.)\n",
    "* *Explain* in the light of this experiment what is the best parameter $N$."
   ]
  },
  {
   "cell_type": "code",
   "execution_count": 21,
   "metadata": {},
   "outputs": [
    {
     "name": "stdout",
     "output_type": "stream",
     "text": [
      "N = 2\n",
      "trial 0 logptrain= -61.4372782489 logptest= -72.4165892924\n",
      "trial 1 logptrain= -64.7228402078 logptest= -66.7611031577\n",
      "trial 2 logptrain= -67.2785291801 logptest= -66.9198971113\n",
      "trial 3 logptrain= -66.4688148345 logptest= -69.8372613217\n",
      "N = 4\n",
      "trial 0 logptrain= -63.902194053 logptest= -65.2220425094\n",
      "trial 1 logptrain= -60.1599262302 logptest= -87.6685647486\n",
      "trial 2 logptrain= -63.8127923767 logptest= -62.8661868924\n",
      "trial 3 logptrain= -63.1961800566 logptest= -69.6351247313\n",
      "N = 8\n",
      "trial 0 logptrain= -52.2539313588 logptest= -221.304573566\n",
      "trial 1 logptrain= -57.8868770454 logptest= -88.0409021513\n",
      "trial 2 logptrain= -52.8513017494 logptest= -99.3808398959\n",
      "trial 3 logptrain= -49.6249782392 logptest= -138.298025064\n",
      "N = 16\n",
      "trial 0 logptrain= -44.2589933716 logptest= -197.999003006\n",
      "trial 1 logptrain= -39.3076848532 logptest= -318.224586355\n",
      "trial 2 logptrain= -43.5645277761 logptest= -246.586453891\n",
      "trial 3 logptrain= -38.6013716762 logptest= -343.750348378\n"
     ]
    }
   ],
   "source": [
    "# solution for 1.b\n",
    "\n",
    "\n",
    "S = [2,4,8,16]\n",
    "for s in range(len(S)):\n",
    "    print \"N =\",S[s]\n",
    "    for r in range(4):  \n",
    "        tt = numpy.random.choice(len(O),int(0.5*len(O)), replace=False)\n",
    "        train = O[tt]\n",
    "        test = numpy.delete(O, tt)\n",
    "        hmmtoy = hmm.HMM(S[s],2)\n",
    "        for k in range(100):\n",
    "            hmmtoy.loaddata(train)\n",
    "            hmmtoy.forward()\n",
    "            hmmtoy.backward()\n",
    "            hmmtoy.learn()\n",
    "        A = hmmtoy.A\n",
    "        B = hmmtoy.B\n",
    "        Pi = hmmtoy.Pi \n",
    "        # creat and fill Alpha martix for testing set\n",
    "        Alpha_test = numpy.zeros([S[s], len(test)])\n",
    "        Alpha_test[:,0] = numpy.dot(B[:,test[0]], Pi)\n",
    "        for t in range(1,len(test)):\n",
    "                Alpha_test[:,t] = numpy.dot(numpy.diag(B[:,test[t]]),numpy.dot(A.T,Alpha_test[:,t-1]))\n",
    "        # sum up the last column of Alpha matrix and calculate the log probability        \n",
    "        Prob_test = numpy.sum(Alpha_test[:,-1])\n",
    "        logP_test = numpy.log(Prob_test)\n",
    "        # creat and fill Alpha martix for train set\n",
    "        Alpha_train = numpy.zeros([S[s], len(train)])\n",
    "        Alpha_train[:,0] = numpy.dot(B[:,train[0]], Pi)\n",
    "        for t in range(1,len(train)):\n",
    "                Alpha_train[:,t] = numpy.dot(numpy.diag(B[:,train[t]]),numpy.dot(A.T,Alpha_train[:,t-1]))\n",
    "        # sum up the last column of Alpha matrix and calculate the log probability        \n",
    "        Prob_train = numpy.sum(Alpha_train[:,-1])\n",
    "        logP_train = numpy.log(Prob_train)        \n",
    "        print \"trial\", r, \"logptrain=\", logP_train, \"logptest=\", logP_test "
   ]
  },
  {
   "cell_type": "code",
   "execution_count": null,
   "metadata": {
    "collapsed": true
   },
   "outputs": [],
   "source": [
    "# solution to 1.b\n",
    "# I prefer to use either N = 2  or  N = 4, because the probability is more stable in the testing set for both model."
   ]
  },
  {
   "cell_type": "markdown",
   "metadata": {},
   "source": [
    "## Question 2: Text modeling and generation (30 P)\n",
    "\n",
    "We would like to train an HMM on character sequences taken from English text. We use the 20 newsgroups dataset that is accessible via scikits-learn http://scikit-learn.org/stable/datasets/twenty_newsgroups.html. (For this, you need to install scikits-learn if not done already.) Documentation is available on the website. The code below allows you to (1) read the dataset, (2) sample HMM-readable sequences from it, and (3) convert them back into string of characters."
   ]
  },
  {
   "cell_type": "code",
   "execution_count": 83,
   "metadata": {},
   "outputs": [],
   "source": [
    "from sklearn.datasets import fetch_20newsgroups\n",
    "\n",
    "# Download a subset of the newsgroup dataset\n",
    "newsgroups_train = fetch_20newsgroups(subset='train',categories=['sci.med'])\n",
    "newsgroups_test  = fetch_20newsgroups(subset='test' ,categories=['sci.med'])\n",
    "\n",
    "# Sample a sequence of T characters from the dataset\n",
    "# that the HMM can read (0=whitespace 1-26=A-Z).\n",
    "#\n",
    "# Example of execution:\n",
    "# O = sample(newsgroups_train.data)\n",
    "# O = sample(newsgroups_test.data)\n",
    "#\n",
    "def sample(data,T=50):\n",
    "    i = numpy.random.randint(len(data))\n",
    "    O = data[i].upper().replace('\\n',' ')\n",
    "    O = numpy.array([ord(s) for s in O])\n",
    "    O = numpy.maximum(O[(O>=65)*(O<90)+(O==32)]-64,0)\n",
    "    j = numpy.random.randint(len(O)-T)\n",
    "    return O[j:j+T]\n",
    "\n",
    "# Takes a sequence of integers between 0 and 26 (HMM representation)\n",
    "# and converts it back to a string of characters\n",
    "def tochar(O):\n",
    "    return \"\".join([\"%s\"%chr(o) for o in (O+32*(O==0)+64*(O>0.5))])"
   ]
  },
  {
   "cell_type": "markdown",
   "metadata": {},
   "source": [
    "### Question 2a (15 P)\n",
    "\n",
    "In order to train the HMM, we use a stochastic optimization algorithm where the Baum-Welch procedure is applied to randomly drawn sequences of $T=50$ characters at each iteration. The HMM has 27 visible states (A-Z + whitespace) and 200 hidden states. Because the Baum-Welch procedure optimizes for the sequence taken as input, and no necessarily the full text, it can take fairly large steps in the parameter space, which is inadequate for stochastic optimization. We consider instead for the parameters $\\lambda = (A,B,\\Pi)$ the update rule $\\lambda^{new} = (1-\\gamma) \\lambda + \\gamma \\bar \\lambda$, where $\\bar \\lambda$ contains the candidate parameters obtained from Equations 40a-c. A reasonable value for $\\gamma$ is $0.1$.\n",
    "\n",
    "* *Create* a new class `HMMChar` that extends the class `HMM` provided in `hmm.py`.\n",
    "* *Implement* for this class a new method `HMMchar.learn(self)` that overrides the original methods, and implements the proposed update rule instead.\n",
    "* *Implement* the stochastic training procedure and run it.\n",
    "* *Monitor* $\\log p(O|\\lambda)$ on the test set at multiple iterations for sequences of same length as the one used for training. (Hint: for less noisy log-probability estimates, use several sequences or a moving average.)"
   ]
  },
  {
   "cell_type": "code",
   "execution_count": 84,
   "metadata": {},
   "outputs": [],
   "source": [
    "class HMMChar(hmm.HMM):\n",
    "    #Solution for 2a.\n",
    "    def learn(self, r=0.1):\n",
    "        A_hmm,B_hmm,Pi_hmm = self.A.copy(), self.B.copy(), self.Pi.copy()\n",
    "        #Calling super function\n",
    "        super(HMMChar, self).learn()\n",
    "        \n",
    "        self.A = (1-r)*A_hmm + r*self.A\n",
    "        self.B = (1-r)*B_hmm + r*self.B\n",
    "        self.Pi = (1-r)*Pi_hmm + r*self.Pi\n",
    "        \n",
    "    #Solution of 2b\n",
    "    def generate(self, T):\n",
    "        chars = []\n",
    "        q = numpy.random.choice(200, p=hmmchar.Pi)\n",
    "        for _ in range(T):\n",
    "            chars.append(numpy.random.choice(27, p=hmmchar.B[q, :]))\n",
    "            q = numpy.random.choice(200, p=hmmchar.A[q, :])\n",
    "        return numpy.array(chars)\n"
   ]
  },
  {
   "cell_type": "code",
   "execution_count": 85,
   "metadata": {},
   "outputs": [],
   "source": [
    "hmmchar = HMMChar(200,27)\n",
    "trainsample = lambda: sample(newsgroups_train.data)\n",
    "testsample  = lambda: sample(newsgroups_test.data)\n",
    "\n",
    "prob_tests = []\n",
    "\n",
    "for i in range(1000):\n",
    "    hmmchar.loaddata(trainsample())\n",
    "    hmmchar.forward()\n",
    "    hmmchar.backward()\n",
    "    hmmchar.learn()\n",
    "\n",
    "    prob_train = numpy.log(sum(hmmchar.beta[0]))\n",
    "\n",
    "    hmmchar.loaddata(testsample())\n",
    "    hmmchar.forward()\n",
    "    hmmchar.backward()\n",
    "    prob_test = numpy.log(sum(hmmchar.beta[0]))\n",
    "    prob_tests.append(prob_test)\n"
   ]
  },
  {
   "cell_type": "code",
   "execution_count": 86,
   "metadata": {},
   "outputs": [
    {
     "data": {
      "image/png": "[encoded data removed]",
      "text/plain": [
       "<matplotlib.figure.Figure at 0x2b4e3ab5e80>"
      ]
     },
     "metadata": {},
     "output_type": "display_data"
    }
   ],
   "source": [
    "import matplotlib.pyplot as plt\n",
    "\n",
    "prob_test_mean = [numpy.mean(prob_tests[i:i+10]) for i in range(0, 1000)]\n",
    "plt.plot(prob_tests, color='red')\n",
    "plt.plot(numpy.arange(0, 1000), prob_test_mean, color='orange')\n",
    "plt.show()"
   ]
  },
  {
   "cell_type": "markdown",
   "metadata": {},
   "source": [
    "### Question 2b (15 P)\n",
    "\n",
    "In order to visualize what the HMM has learned, we would like to generate random text from it. A well-trained HMM should generate character sequences that have some similarity with the text it has been trained on.\n",
    "\n",
    "* *Implement* a method `generate(self,T)` of the class `HMMChar` that takes as argument the length of the character sequence that has to be generated.\n",
    "* *Test* your method by generating a sequence of 250 characters and comparing it with original text and a purely random sequence.\n",
    "* *Discuss* how the generated sequences compare with written English and what are the advantages and limitations of the HMM for this problem."
   ]
  },
  {
   "cell_type": "code",
   "execution_count": 87,
   "metadata": {},
   "outputs": [
    {
     "name": "stdout",
     "output_type": "stream",
     "text": [
      "original:\n",
      "SHORTCIRCUITS THE MITOCHONDRIA CAUSING FOOD ENERGY TO BE TURNED INTO HEAT  DNP WAS POPULAR IN THE S FOR WEIGHT REDUCTION  IN CONTROLLED AMOUNTS IT RAISES BODY TEMPERATURE AS THE BODY COMPENSATES FOR THE REDUCED AMOUNT OF USEFUL ENERGY AVAILABLE  IT I\n",
      "\n",
      "learned:\n",
      "NA FHYLEND GUELSTONDONY YHATISIOGE NIAN DESMINT ARC LACYS AN  ORPK THASE O DUES KRERTIS INLER I ISCKOTE CE RJING UNAROLOAT MYS OREMR  TLILHS  BOUH  I MRY CURCIKYTT PEETSRA PIMIA DASECY JCAANL MA GANE  OF FOSTITS QOENYPUFEILS HOSTH THAM MENE THC TEIS \n",
      "\n",
      "random:\n",
      "RPHNSIRT PEATMOSNE  IN IM HUME BUMENI  A YARTING AN SUCUSG  BOM THENT EN PHE THANAT IN ENDEND THAE ORSEREELD TEPESVRINLAMEN TRYR DOCWIE THERIRSE I HUM  RE REILG TORFE ANLE THAS   ANG TH FOVE PUMUBL RIENCQNUMETHE RICMEY  TTONTIC AT WIMIC OM AY CUCAPY \n"
     ]
    }
   ],
   "source": [
    "print(\"original:\\n\"+tochar(sample(newsgroups_test.data,T=250)))\n",
    "print(\"\\nlearned:\\n\"+tochar(hmmchar.generate(250)))\n",
    "print(\"\\nrandom:\\n\" +tochar(HMMChar(200,27).generate(250)))"
   ]
  },
  {
   "cell_type": "code",
   "execution_count": null,
   "metadata": {
    "collapsed": true
   },
   "outputs": [],
   "source": []
  }
 ],
 "metadata": {
  "kernelspec": {
   "display_name": "Python 3",
   "language": "python",
   "name": "python3"
  },
  "language_info": {
   "codemirror_mode": {
    "name": "ipython",
    "version": 3
   },
   "file_extension": ".py",
   "mimetype": "text/x-python",
   "name": "python",
   "nbconvert_exporter": "python",
   "pygments_lexer": "ipython3",
   "version": "3.6.3"
  }
 },
 "nbformat": 4,
 "nbformat_minor": 1
}
