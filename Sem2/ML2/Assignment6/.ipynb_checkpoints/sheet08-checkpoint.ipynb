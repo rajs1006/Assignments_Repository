{
 "cells": [
  {
   "cell_type": "markdown",
   "metadata": {},
   "source": [
    "# Programming Hidden Markov Models (60 P)\n",
    "\n",
    "In this exercise, you will experiment with hidden Markov models, in particular, applying them to modeling character sequences, and analyzing the learned solution. As a starting point, you are provided in the file `hmm.py` with a basic implementation of an HMM and of the Baum-Welch training algorithm. The names of variables used in the code and the references to equations are taken from the HMM paper by Rabiner et al. downloable from ISIS. In addition to the variables described in this paper, we use two additional variables: $Z$ for the emission probabilities of observations $O$, and $\\psi$ (i.e. psi) for collecting the statistics of Equation (40c).\n"
   ]
  },
  {
   "cell_type": "markdown",
   "metadata": {},
   "source": [
    "## Question 1: Analysis of a small HMM (30 P)\n",
    "\n",
    "We first look at a toy example of an HMM trained on a binary sequence. The training procedure below consists of 100 iterations of the Baum-Welch procedure. It runs the HMM learning algorithm for some toy binary data and prints the parameters learned by the HMM (i.e. matrices $A$ and $B$).\n",
    "\n",
    "### Question 1a: Qualitative Analysis (15 P)\n",
    "\n",
    "* *Run* the code several times to check that the behavior is consistent.\n",
    "* *Describe* qualitatively the solution $A,B$ learned by the model.\n",
    "* *Explain* how the solution $\\lambda = (A,B)$ relates to the sequence of observations $O$ that has been modeled.\n"
   ]
  },
  {
   "cell_type": "code",
   "execution_count": 1,
   "metadata": {},
   "outputs": [
    {
     "name": "stdout",
     "output_type": "stream",
     "text": [
      "A\n",
      "0.000 0.000 0.000 1.000\n",
      "1.000 0.000 0.000 0.000\n",
      "0.000 1.000 0.000 0.000\n",
      "0.000 0.000 1.000 0.000\n",
      " \n",
      "B\n",
      "0.000 1.000\n",
      "0.880 0.120\n",
      "0.800 0.200\n",
      "0.720 0.280\n",
      " \n",
      "Pi\n",
      "1.000\n",
      "0.000\n",
      "0.000\n",
      "0.000\n"
     ]
    }
   ],
   "source": [
    "import numpy as np,hmm\n",
    "import matplotlib.pyplot as plt\n",
    "\n",
    "O = np.array([1,0,1,0,1,1,0,0,1,0,0,0,1,1,1,0,1,0,0,0,1,1,0,1,1,0,0,1,1,\n",
    "                 0,0,0,1,0,0,0,1,1,0,0,1,0,0,1,1,0,0,0,1,0,1,0,1,0,0,0,1,0,\n",
    "                 0,0,1,0,1,0,1,0,0,0,1,1,1,0,1,0,0,0,1,0,0,0,1,0,1,0,1,0,0,\n",
    "                 0,1,1,1,0,1,0,0,0,1,0,0,0,1,0,0,0,1,0,0,0,1,1,0,0,1,0,1,1,\n",
    "                 1,0,0,0,1,1,0,0,1,0,1,1,1,0,0,1,1,0,0,0,1,1,0,0,1,1,0,0,1,\n",
    "                 0,0,0,1,0,0,0,1,0,0,0,1,0,0,0,1,0,1,0,1,0,0,0,1,0,0,0,1,0,\n",
    "                 0,0,1,0,0,0,1,1,0,0,1,1,0,0,1,1,0,0,1,0,0,0,1,1,0,0])\n",
    "\n",
    "hmmtoy = hmm.HMM(4,2)\n",
    "\n",
    "for k in range(100):\n",
    "    hmmtoy.loaddata(O)\n",
    "    hmmtoy.forward()\n",
    "    hmmtoy.backward()\n",
    "    hmmtoy.learn()\n",
    "\n",
    "print('A')\n",
    "print(\"\\n\".join([\" \".join(['%.3f'%a for a in aa]) for aa in hmmtoy.A]))\n",
    "print(' ')\n",
    "print('B')\n",
    "print(\"\\n\".join([\" \".join(['%.3f'%b for b in bb]) for bb in hmmtoy.B]))\n",
    "print(' ')\n",
    "print('Pi')\n",
    "print(\"\\n\".join(['%.3f'%b for b in hmmtoy.Pi]))"
   ]
  },
  {
   "cell_type": "markdown",
   "metadata": {},
   "source": [
    "$A$ indicates that the model does not stay in one state but constantly switches to the next state in a cyclic way. Thus, at every fourth trial the same coin is flipped. If one only looks at these respective subsets (tosses 1,5,9..., 2,6,10... and so on), their distributions will result in the probabilites given in $B$."
   ]
  },
  {
   "cell_type": "code",
   "execution_count": 2,
   "metadata": {},
   "outputs": [
    {
     "name": "stdout",
     "output_type": "stream",
     "text": [
      "0 | 1.0 | 0.0\n",
      "1 | 0.28 | 0.72\n",
      "2 | 0.2 | 0.8\n",
      "3 | 0.12 | 0.88\n"
     ]
    }
   ],
   "source": [
    "for i in range(4):\n",
    "    heads = sum(O[i::4])/float(len(O[i::4]))\n",
    "    tails = 1 - heads\n",
    "    print \"{} | {} | {}\".format(i, heads, tails)"
   ]
  },
  {
   "cell_type": "markdown",
   "metadata": {},
   "source": [
    "### Question 1b: Finding the best number $N$ of hidden states (15 P)\n",
    "\n",
    "For the same sequence of observations as in Question 1a, we would like to determine automatically what is a good number of hidden states $N = \\mathrm{card}(S)$ for the model.\n",
    "\n",
    "* *Split* the sequence of observations into a training and test set (you can assume stationarity).\n",
    "* *Train* the model on the training set for several iteration (e.g. 100 iterations) and for multiple parameter $N$.\n",
    "* *Show* for each choice of parameter $N$ the log-probability $\\log p(O | \\lambda)$ for the test set. (If the results are unstable, perform several trials of the same experiment for each parameter $N$.)\n",
    "* *Explain* in the light of this experiment what is the best parameter $N$."
   ]
  },
  {
   "cell_type": "code",
   "execution_count": 3,
   "metadata": {},
   "outputs": [
    {
     "name": "stdout",
     "output_type": "stream",
     "text": [
      "N=2\n",
      "trial 0 logptrain= -67.5573384125 logptest= -70.6908945569\n",
      "trial 1 logptrain= -78.1042513937 logptest= -78.8312890749\n",
      "trial 2 logptrain= -78.0704091377 logptest= -78.5882318431\n",
      "trial 3 logptrain= -78.1444229614 logptest= -79.1671299308\n",
      "trial 4 logptrain= -79.6330800032 logptest= -78.8820387132\n",
      "trial 5 logptrain= -67.5573384125 logptest= -70.6908945569\n",
      "trial 6 logptrain= -78.0736582143 logptest= -78.7226799977\n",
      "trial 7 logptrain= -78.063312345 logptest= -78.8483030278\n",
      "N=4\n",
      "trial 0 logptrain= -67.5573384125 logptest= -70.6908945569\n",
      "trial 1 logptrain= -45.4758725995 logptest= -42.9484358213\n",
      "trial 2 logptrain= -71.6413643674 logptest= -69.6842516102\n",
      "trial 3 logptrain= -45.4758725995 logptest= -42.9484358213\n",
      "trial 4 logptrain= -52.9046310894 logptest= -49.314143913\n",
      "trial 5 logptrain= -45.4758725995 logptest= -42.9484358213\n",
      "trial 6 logptrain= -45.4758725995 logptest= -42.9484358213\n",
      "trial 7 logptrain= -45.4758725995 logptest= -42.9484358213\n",
      "N=8\n",
      "trial 0 logptrain= -44.4048898598 logptest= -43.622778709\n",
      "trial 1 logptrain= -44.8805612694 logptest= -43.9766647797\n",
      "trial 2 logptrain= -40.7044675404 logptest= -109.964897293\n",
      "trial 3 logptrain= -44.0890731449 logptest= -41.3925037114\n",
      "trial 4 logptrain= -44.3772603108 logptest= -41.8498235326\n",
      "trial 5 logptrain= -44.041488336 logptest= -41.3397823513\n",
      "trial 6 logptrain= -43.7333606345 logptest= -41.0441829318\n",
      "trial 7 logptrain= -44.2582955206 logptest= -43.5268593897\n",
      "N=16\n",
      "trial 0 logptrain= -40.3610027944 logptest= -46.1318142028\n",
      "trial 1 logptrain= -36.4181028188 logptest= -69.9875831297\n",
      "trial 2 logptrain= -37.106309875 logptest= -56.9598581408\n",
      "trial 3 logptrain= -33.8960134067 logptest= -115.73407006\n",
      "trial 4 logptrain= -36.4517515582 logptest= -71.1934373068\n",
      "trial 5 logptrain= -36.6160270211 logptest= -54.0673239248\n",
      "trial 6 logptrain= -37.0965048134 logptest= -40.7986346499\n",
      "trial 7 logptrain= -35.8646225136 logptest= -65.7480665791\n"
     ]
    }
   ],
   "source": [
    "train, test = O[:int(len(O)*0.6)//4*4], O[int(len(O)*0.4)//4*4:]\n",
    "\n",
    "logptests = []\n",
    "Ns = [2, 4, 8, 16]\n",
    "\n",
    "for N in Ns:\n",
    "    print \"N=\" + str(N)\n",
    "    logptests.append([])\n",
    "    \n",
    "    for trial in range(8):\n",
    "        hmmtoy = hmm.HMM(N, 2)\n",
    "\n",
    "        for k in range(100):\n",
    "            hmmtoy.loaddata(train)\n",
    "            hmmtoy.forward()\n",
    "            hmmtoy.backward()\n",
    "            hmmtoy.learn()\n",
    "\n",
    "        logptrain = np.log(sum(hmmtoy.beta[0]))\n",
    "        \n",
    "        hmmtoy.loaddata(test)\n",
    "        hmmtoy.forward()\n",
    "        hmmtoy.backward()\n",
    "        logptest = np.log(sum(hmmtoy.beta[0]))\n",
    "        logptests[-1].append(logptest)\n",
    "\n",
    "        print \"trial {} logptrain= {} logptest= {}\".format(trial, logptrain, logptest)"
   ]
  },
  {
   "cell_type": "code",
   "execution_count": 4,
   "metadata": {},
   "outputs": [
    {
     "data": {
      "image/png": "[encoded data removed]",
      "text/plain": [
       "<matplotlib.figure.Figure at 0x7f30783f2450>"
      ]
     },
     "metadata": {},
     "output_type": "display_data"
    }
   ],
   "source": [
    "logptests_means = np.mean(np.array(logptests), axis=1)\n",
    "plt.plot(Ns, logptests_means)\n",
    "plt.show()"
   ]
  },
  {
   "cell_type": "markdown",
   "metadata": {},
   "source": [
    "Telling from the plot, it looks like N=4 is slightly better than N=8."
   ]
  },
  {
   "cell_type": "markdown",
   "metadata": {},
   "source": [
    "## Question 2: Text modeling and generation (30 P)\n",
    "\n",
    "We would like to train an HMM on character sequences taken from English text. We use the 20 newsgroups dataset that is accessible via scikits-learn http://scikit-learn.org/stable/datasets/twenty_newsgroups.html. (For this, you need to install scikits-learn if not done already.) Documentation is available on the website. The code below allows you to (1) read the dataset, (2) sample HMM-readable sequences from it, and (3) convert them back into string of characters."
   ]
  },
  {
   "cell_type": "code",
   "execution_count": 5,
   "metadata": {},
   "outputs": [],
   "source": [
    "from sklearn.datasets import fetch_20newsgroups\n",
    "\n",
    "# Download a subset of the newsgroup dataset\n",
    "newsgroups_train = fetch_20newsgroups(subset='train',categories=['sci.med'])\n",
    "newsgroups_test  = fetch_20newsgroups(subset='test' ,categories=['sci.med'])\n",
    "\n",
    "# Sample a sequence of T characters from the dataset\n",
    "# that the HMM can read (0=whitespace 1-26=A-Z).\n",
    "#\n",
    "# Example of execution:\n",
    "# O = sample(newsgroups_train.data)\n",
    "# O = sample(newsgroups_test.data)\n",
    "#\n",
    "def sample(data,T=50):\n",
    "    i = np.random.randint(len(data))\n",
    "    O = data[i].upper().replace('\\n',' ')\n",
    "    O = np.array([ord(s) for s in O])\n",
    "    O = np.maximum(O[(O>=65)*(O<90)+(O==32)]-64,0)\n",
    "    j = np.random.randint(len(O)-T)\n",
    "    return O[j:j+T]\n",
    "\n",
    "# Takes a sequence of integers between 0 and 26 (HMM representation)\n",
    "# and converts it back to a string of characters\n",
    "def tochar(O):\n",
    "    return \"\".join([\"%s\"%chr(o) for o in (O+32*(O==0)+64*(O>0.5))])"
   ]
  },
  {
   "cell_type": "markdown",
   "metadata": {},
   "source": [
    "### Question 2a (15 P)\n",
    "\n",
    "In order to train the HMM, we use a stochastic optimization algorithm where the Baum-Welch procedure is applied to randomly drawn sequences of $T=50$ characters at each iteration. The HMM has 27 visible states (A-Z + whitespace) and 200 hidden states. Because the Baum-Welch procedure optimizes for the sequence taken as input, and no necessarily the full text, it can take fairly large steps in the parameter space, which is inadequate for stochastic optimization. We consider instead for the parameters $\\lambda = (A,B,\\Pi)$ the update rule $\\lambda^{new} = (1-\\gamma) \\lambda + \\gamma \\bar \\lambda$, where $\\bar \\lambda$ contains the candidate parameters obtained from Equations 40a-c. A reasonable value for $\\gamma$ is $0.1$.\n",
    "\n",
    "* *Create* a new class `HMMChar` that extends the class `HMM` provided in `hmm.py`.\n",
    "* *Implement* for this class a new method `HMMchar.learn(self)` that overrides the original methods, and implements the proposed update rule instead.\n",
    "* *Implement* the stochastic training procedure and run it.\n",
    "* *Monitor* $\\log p(O|\\lambda)$ on the test set at multiple iterations for sequences of same length as the one used for training. (Hint: for less noisy log-probability estimates, use several sequences or a moving average.)"
   ]
  },
  {
   "cell_type": "code",
   "execution_count": 45,
   "metadata": {},
   "outputs": [],
   "source": [
    "class HMMChar(hmm.HMM):\n",
    "    \n",
    "    def learn(self, learning_rate=0.1):\n",
    "        A_old = self.A.copy()\n",
    "        B_old = self.B.copy()\n",
    "        Pi_old = self.Pi.copy()\n",
    "        \n",
    "        super(HMMChar, self).learn()\n",
    "        \n",
    "        self.A = (1-learning_rate)*A_old + learning_rate*self.A\n",
    "        self.B = (1-learning_rate)*B_old + learning_rate*self.B\n",
    "        self.Pi = (1-learning_rate)*Pi_old + learning_rate*self.Pi\n",
    "        \n",
    "        \n",
    "    def generate(self, T):\n",
    "        chars = []\n",
    "        q = np.random.choice(200, p=hmmchar.Pi)\n",
    "        for _ in range(T):\n",
    "            chars.append(np.random.choice(27, p=hmmchar.B[q, :]))\n",
    "            q = np.random.choice(200, p=hmmchar.A[q, :])\n",
    "        assert len(chars) == T\n",
    "        return np.array(chars)"
   ]
  },
  {
   "cell_type": "code",
   "execution_count": 46,
   "metadata": {},
   "outputs": [
    {
     "name": "stdout",
     "output_type": "stream",
     "text": [
      "it= 0 logptrain= -155.786853858 logptest= -150.191175257\n",
      "it= 100 logptrain= -126.006522059 logptest= -118.591395808\n",
      "it= 200 logptrain= -123.769033081 logptest= -124.969429353\n",
      "it= 300 logptrain= -121.049047879 logptest= -139.23643096\n",
      "it= 400 logptrain= -121.162338575 logptest= -114.044199682\n",
      "it= 500 logptrain= -116.374569771 logptest= -126.051632995\n",
      "it= 600 logptrain= -113.052174043 logptest= -128.4815319\n",
      "it= 700 logptrain= -109.730052319 logptest= -125.71208613\n",
      "it= 800 logptrain= -125.66720214 logptest= -113.535553436\n",
      "it= 900 logptrain= -108.513307265 logptest= -101.249408284\n"
     ]
    }
   ],
   "source": [
    "hmmchar = HMMChar(200, 27)\n",
    "trainsample = lambda: sample(newsgroups_train.data)\n",
    "testsample  = lambda: sample(newsgroups_test.data)\n",
    "\n",
    "logptests = []\n",
    "\n",
    "for i in range(1000):\n",
    "    hmmchar.loaddata(trainsample())\n",
    "    hmmchar.forward()\n",
    "    hmmchar.backward()\n",
    "    hmmchar.learn()\n",
    "\n",
    "    logptrain = np.log(sum(hmmchar.beta[0]))\n",
    "\n",
    "    hmmchar.loaddata(testsample())\n",
    "    hmmchar.forward()\n",
    "    hmmchar.backward()\n",
    "    logptest = np.log(sum(hmmchar.beta[0]))\n",
    "    logptests.append(logptest)\n",
    "\n",
    "    if i % 100 == 0:\n",
    "        print \"it= {} logptrain= {} logptest= {}\".format(i, logptrain, logptest)"
   ]
  },
  {
   "cell_type": "code",
   "execution_count": 47,
   "metadata": {},
   "outputs": [
    {
     "data": {
      "image/png": "[encoded data removed]",
      "text/plain": [
       "<matplotlib.figure.Figure at 0x7f3042965150>"
      ]
     },
     "metadata": {},
     "output_type": "display_data"
    }
   ],
   "source": [
    "logptests_mean = [np.mean(logptests[i-5:i+5]) for i in range(5, 995)]\n",
    "plt.plot(logptests)\n",
    "plt.plot(np.arange(5, 995), logptests_mean, color='orange')\n",
    "plt.show()"
   ]
  },
  {
   "cell_type": "markdown",
   "metadata": {},
   "source": [
    "### Question 2b (15 P)\n",
    "\n",
    "In order to visualize what the HMM has learned, we would like to generate random text from it. A well-trained HMM should generate character sequences that have some similarity with the text it has been trained on.\n",
    "\n",
    "* *Implement* a method `generate(self,T)` of the class `HMMChar` that takes as argument the length of the character sequence that has to be generated.\n",
    "* *Test* your method by generating a sequence of 250 characters and comparing it with original text and a purely random sequence.\n",
    "* *Discuss* how the generated sequences compare with written English and what are the advantages and limitations of the HMM for this problem."
   ]
  },
  {
   "cell_type": "code",
   "execution_count": 53,
   "metadata": {},
   "outputs": [
    {
     "name": "stdout",
     "output_type": "stream",
     "text": [
      "original:\n",
      " INCLUDE  A DATABASE OF ELECTRONIC PATIENT CHART RECORDS      COMBINED WITH ACCESS TO A KNOWLEDGE BASE OF INFORMATION      RESOURCES SUCH AS PDQ CANCERLIT AND MEDLINEAN      INTEGRATION OF DATA AND KNOWLEDGE COMBINED TO CREATE A      CLINICAL ONCOLOG\n",
      "\n",
      "learned:\n",
      "BIFAC ED AN   CHE FAI  ANE AGAMDIVTIMRER SSOES IL AUFTEO S MECODS IT FASNOARGTE TORTYORITED IS LADILL TOTEIN PUCT BEN HEIKE   PASDREVEECTER  IT AN  IN CACTAN  CRON HXSYB  N   N A HARD TORSED NLARESMIATT THINE CTID   REFHIN BOE THATTOT HIGOPK COM KVE \n",
      "\n",
      "random:\n",
      " PTIIG PA  CETIGEABFIASAFE MASKAN WIRE AFOCTICAMIINRITHFPER VATS  RSCO PASER IND CHER INTED  VIXA  THE   FOE WHAI    FLE ILS IRGCE  CILT RE GXSG FITE CPPAR INE PAX CAE  BOMIPRA SEINSMYERRTSOCA RICLTR  ANLRSOCHON  TLE  BLOTE PEBA LIPEN     BEMASRIENGE\n"
     ]
    }
   ],
   "source": [
    "print(\"original:\\n\"+tochar(sample(newsgroups_test.data,T=250)))\n",
    "print(\"\\nlearned:\\n\"+tochar(hmmchar.generate(250)))\n",
    "print(\"\\nrandom:\\n\" +tochar(HMMChar(200,27).generate(250)))"
   ]
  },
  {
   "cell_type": "markdown",
   "metadata": {},
   "source": [
    "The HMM generates shorter words that occur more often in written English than very long words which are generated more frequently using the random procedure. On the other hand, since at every step the emission only contains a single character, the produced words are not necessarily meaningful."
   ]
  },
  {
   "cell_type": "code",
   "execution_count": null,
   "metadata": {
    "collapsed": true
   },
   "outputs": [],
   "source": []
  }
 ],
 "metadata": {
  "kernelspec": {
   "display_name": "Python 2",
   "language": "python",
   "name": "python2"
  },
  "language_info": {
   "codemirror_mode": {
    "name": "ipython",
    "version": 2
   },
   "file_extension": ".py",
   "mimetype": "text/x-python",
   "name": "python",
   "nbconvert_exporter": "python",
   "pygments_lexer": "ipython2",
   "version": "2.7.12"
  }
 },
 "nbformat": 4,
 "nbformat_minor": 1
}
