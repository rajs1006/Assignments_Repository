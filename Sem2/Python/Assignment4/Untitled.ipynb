{
 "cells": [
  {
   "cell_type": "code",
   "execution_count": 3,
   "metadata": {},
   "outputs": [
    {
     "name": "stdout",
     "output_type": "stream",
     "text": [
      "[0.05, 0.7, 0.05, 0.05, 0.05, 0.05]\n",
      "[ 0.    0.05  0.75  0.8   0.85  0.9   0.95]\n",
      "[ 0.05  0.75  0.8   0.85  0.9   0.95  1.  ]\n"
     ]
    }
   ],
   "source": [
    "import numpy\n",
    "import numpy.random\n",
    "p = [0.05, 0.70, 0.05, 0.05, 0.05, 0.05, 0.05]\n",
    "print (p[:-1])\n",
    "l = numpy.cumsum([0] + p[:-1]) # lower-bounds\n",
    "h = numpy.cumsum(p)\n",
    "print (l)\n",
    "print (h)"
   ]
  },
  {
   "cell_type": "code",
   "execution_count": null,
   "metadata": {
    "collapsed": true
   },
   "outputs": [],
   "source": []
  },
  {
   "cell_type": "code",
   "execution_count": null,
   "metadata": {
    "collapsed": true
   },
   "outputs": [],
   "source": []
  }
 ],
 "metadata": {
  "kernelspec": {
   "display_name": "Python 3",
   "language": "python",
   "name": "python3"
  },
  "language_info": {
   "codemirror_mode": {
    "name": "ipython",
    "version": 3
   },
   "file_extension": ".py",
   "mimetype": "text/x-python",
   "name": "python",
   "nbconvert_exporter": "python",
   "pygments_lexer": "ipython3",
   "version": "3.6.3"
  }
 },
 "nbformat": 4,
 "nbformat_minor": 2
}
