{
 "cells": [
  {
   "cell_type": "code",
   "execution_count": 3,
   "metadata": {},
   "outputs": [
    {
     "data": {
      "text/plain": [
       "array([ -1.00000000e+01,  -9.90000000e+00,  -9.80000000e+00,\n",
       "        -9.70000000e+00,  -9.60000000e+00,  -9.50000000e+00,\n",
       "        -9.40000000e+00,  -9.30000000e+00,  -9.20000000e+00,\n",
       "        -9.10000000e+00,  -9.00000000e+00,  -8.90000000e+00,\n",
       "        -8.80000000e+00,  -8.70000000e+00,  -8.60000000e+00,\n",
       "        -8.50000000e+00,  -8.40000000e+00,  -8.30000000e+00,\n",
       "        -8.20000000e+00,  -8.10000000e+00,  -8.00000000e+00,\n",
       "        -7.90000000e+00,  -7.80000000e+00,  -7.70000000e+00,\n",
       "        -7.60000000e+00,  -7.50000000e+00,  -7.40000000e+00,\n",
       "        -7.30000000e+00,  -7.20000000e+00,  -7.10000000e+00,\n",
       "        -7.00000000e+00,  -6.90000000e+00,  -6.80000000e+00,\n",
       "        -6.70000000e+00,  -6.60000000e+00,  -6.50000000e+00,\n",
       "        -6.40000000e+00,  -6.30000000e+00,  -6.20000000e+00,\n",
       "        -6.10000000e+00,  -6.00000000e+00,  -5.90000000e+00,\n",
       "        -5.80000000e+00,  -5.70000000e+00,  -5.60000000e+00,\n",
       "        -5.50000000e+00,  -5.40000000e+00,  -5.30000000e+00,\n",
       "        -5.20000000e+00,  -5.10000000e+00,  -5.00000000e+00,\n",
       "        -4.90000000e+00,  -4.80000000e+00,  -4.70000000e+00,\n",
       "        -4.60000000e+00,  -4.50000000e+00,  -4.40000000e+00,\n",
       "        -4.30000000e+00,  -4.20000000e+00,  -4.10000000e+00,\n",
       "        -4.00000000e+00,  -3.90000000e+00,  -3.80000000e+00,\n",
       "        -3.70000000e+00,  -3.60000000e+00,  -3.50000000e+00,\n",
       "        -3.40000000e+00,  -3.30000000e+00,  -3.20000000e+00,\n",
       "        -3.10000000e+00,  -3.00000000e+00,  -2.90000000e+00,\n",
       "        -2.80000000e+00,  -2.70000000e+00,  -2.60000000e+00,\n",
       "        -2.50000000e+00,  -2.40000000e+00,  -2.30000000e+00,\n",
       "        -2.20000000e+00,  -2.10000000e+00,  -2.00000000e+00,\n",
       "        -1.90000000e+00,  -1.80000000e+00,  -1.70000000e+00,\n",
       "        -1.60000000e+00,  -1.50000000e+00,  -1.40000000e+00,\n",
       "        -1.30000000e+00,  -1.20000000e+00,  -1.10000000e+00,\n",
       "        -1.00000000e+00,  -9.00000000e-01,  -8.00000000e-01,\n",
       "        -7.00000000e-01,  -6.00000000e-01,  -5.00000000e-01,\n",
       "        -4.00000000e-01,  -3.00000000e-01,  -2.00000000e-01,\n",
       "        -1.00000000e-01,  -3.55271368e-14,   1.00000000e-01,\n",
       "         2.00000000e-01,   3.00000000e-01,   4.00000000e-01,\n",
       "         5.00000000e-01,   6.00000000e-01,   7.00000000e-01,\n",
       "         8.00000000e-01,   9.00000000e-01,   1.00000000e+00,\n",
       "         1.10000000e+00,   1.20000000e+00,   1.30000000e+00,\n",
       "         1.40000000e+00,   1.50000000e+00,   1.60000000e+00,\n",
       "         1.70000000e+00,   1.80000000e+00,   1.90000000e+00,\n",
       "         2.00000000e+00,   2.10000000e+00,   2.20000000e+00,\n",
       "         2.30000000e+00,   2.40000000e+00,   2.50000000e+00,\n",
       "         2.60000000e+00,   2.70000000e+00,   2.80000000e+00,\n",
       "         2.90000000e+00,   3.00000000e+00,   3.10000000e+00,\n",
       "         3.20000000e+00,   3.30000000e+00,   3.40000000e+00,\n",
       "         3.50000000e+00,   3.60000000e+00,   3.70000000e+00,\n",
       "         3.80000000e+00,   3.90000000e+00,   4.00000000e+00,\n",
       "         4.10000000e+00,   4.20000000e+00,   4.30000000e+00,\n",
       "         4.40000000e+00,   4.50000000e+00,   4.60000000e+00,\n",
       "         4.70000000e+00,   4.80000000e+00,   4.90000000e+00,\n",
       "         5.00000000e+00,   5.10000000e+00,   5.20000000e+00,\n",
       "         5.30000000e+00,   5.40000000e+00,   5.50000000e+00,\n",
       "         5.60000000e+00,   5.70000000e+00,   5.80000000e+00,\n",
       "         5.90000000e+00,   6.00000000e+00,   6.10000000e+00,\n",
       "         6.20000000e+00,   6.30000000e+00,   6.40000000e+00,\n",
       "         6.50000000e+00,   6.60000000e+00,   6.70000000e+00,\n",
       "         6.80000000e+00,   6.90000000e+00,   7.00000000e+00,\n",
       "         7.10000000e+00,   7.20000000e+00,   7.30000000e+00,\n",
       "         7.40000000e+00,   7.50000000e+00,   7.60000000e+00,\n",
       "         7.70000000e+00,   7.80000000e+00,   7.90000000e+00,\n",
       "         8.00000000e+00,   8.10000000e+00,   8.20000000e+00,\n",
       "         8.30000000e+00,   8.40000000e+00,   8.50000000e+00,\n",
       "         8.60000000e+00,   8.70000000e+00,   8.80000000e+00,\n",
       "         8.90000000e+00,   9.00000000e+00,   9.10000000e+00,\n",
       "         9.20000000e+00,   9.30000000e+00,   9.40000000e+00,\n",
       "         9.50000000e+00,   9.60000000e+00,   9.70000000e+00,\n",
       "         9.80000000e+00,   9.90000000e+00,   1.00000000e+01])"
      ]
     },
     "execution_count": 3,
     "metadata": {},
     "output_type": "execute_result"
    }
   ],
   "source": [
    "import numpy\n",
    "X = numpy.arange(-10,10.01,0.1)\n",
    "X"
   ]
  },
  {
   "cell_type": "code",
   "execution_count": 9,
   "metadata": {},
   "outputs": [],
   "source": [
    "def logisticVec(s):\n",
    "    LL = zeros(size(s));"
   ]
  },
  {
   "cell_type": "code",
   "execution_count": 82,
   "metadata": {},
   "outputs": [
    {
     "ename": "TypeError",
     "evalue": "'numpy.float64' object cannot be interpreted as an integer",
     "output_type": "error",
     "traceback": [
      "\u001b[1;31m---------------------------------------------------------------------------\u001b[0m",
      "\u001b[1;31mTypeError\u001b[0m                                 Traceback (most recent call last)",
      "\u001b[1;32m<ipython-input-82-eaec4bf9d862>\u001b[0m in \u001b[0;36m<module>\u001b[1;34m()\u001b[0m\n\u001b[0;32m      4\u001b[0m \u001b[0mZ\u001b[0m \u001b[1;33m=\u001b[0m \u001b[1;36m0\u001b[0m\u001b[1;33m\u001b[0m\u001b[0m\n\u001b[0;32m      5\u001b[0m \u001b[1;32mfor\u001b[0m \u001b[0mx\u001b[0m \u001b[1;32min\u001b[0m \u001b[0mitertools\u001b[0m\u001b[1;33m.\u001b[0m\u001b[0mproduct\u001b[0m\u001b[1;33m(\u001b[0m\u001b[1;33m[\u001b[0m\u001b[1;33m-\u001b[0m\u001b[1;36m1\u001b[0m\u001b[1;33m,\u001b[0m \u001b[1;36m1\u001b[0m\u001b[1;33m]\u001b[0m\u001b[1;33m,\u001b[0m \u001b[0mrepeat\u001b[0m\u001b[1;33m=\u001b[0m\u001b[1;36m10\u001b[0m\u001b[1;33m)\u001b[0m\u001b[1;33m:\u001b[0m\u001b[1;33m\u001b[0m\u001b[0m\n\u001b[1;32m----> 6\u001b[1;33m     \u001b[0mZ\u001b[0m \u001b[1;33m=\u001b[0m \u001b[0mnp\u001b[0m\u001b[1;33m.\u001b[0m\u001b[0msum\u001b[0m\u001b[1;33m(\u001b[0m\u001b[0mZ\u001b[0m\u001b[1;33m,\u001b[0m\u001b[0mnp\u001b[0m\u001b[1;33m.\u001b[0m\u001b[0mexp\u001b[0m\u001b[1;33m(\u001b[0m\u001b[0mnp\u001b[0m\u001b[1;33m.\u001b[0m\u001b[0mdot\u001b[0m\u001b[1;33m(\u001b[0m\u001b[0mx\u001b[0m\u001b[1;33m,\u001b[0m\u001b[0mutils\u001b[0m\u001b[1;33m.\u001b[0m\u001b[0mw_big\u001b[0m\u001b[1;33m)\u001b[0m\u001b[1;33m)\u001b[0m\u001b[1;33m)\u001b[0m\u001b[1;33m\u001b[0m\u001b[0m\n\u001b[0m\u001b[0;32m      7\u001b[0m     \u001b[0mprint\u001b[0m \u001b[1;33m(\u001b[0m\u001b[0mZ\u001b[0m\u001b[1;33m)\u001b[0m\u001b[1;33m\u001b[0m\u001b[0m\n\u001b[0;32m      8\u001b[0m     \u001b[0mprint\u001b[0m \u001b[1;33m(\u001b[0m\u001b[0mnumpy\u001b[0m\u001b[1;33m.\u001b[0m\u001b[0mdot\u001b[0m\u001b[1;33m(\u001b[0m\u001b[0mx\u001b[0m\u001b[1;33m,\u001b[0m\u001b[0mutils\u001b[0m\u001b[1;33m.\u001b[0m\u001b[0mw_big\u001b[0m\u001b[1;33m)\u001b[0m\u001b[1;33m)\u001b[0m\u001b[1;33m\u001b[0m\u001b[0m\n",
      "\u001b[1;32mC:\\SourabhRaj\\software\\Anaconda\\lib\\site-packages\\numpy\\core\\fromnumeric.py\u001b[0m in \u001b[0;36msum\u001b[1;34m(a, axis, dtype, out, keepdims)\u001b[0m\n\u001b[0;32m   1832\u001b[0m             \u001b[1;32mreturn\u001b[0m \u001b[0msum\u001b[0m\u001b[1;33m(\u001b[0m\u001b[0maxis\u001b[0m\u001b[1;33m=\u001b[0m\u001b[0maxis\u001b[0m\u001b[1;33m,\u001b[0m \u001b[0mdtype\u001b[0m\u001b[1;33m=\u001b[0m\u001b[0mdtype\u001b[0m\u001b[1;33m,\u001b[0m \u001b[0mout\u001b[0m\u001b[1;33m=\u001b[0m\u001b[0mout\u001b[0m\u001b[1;33m,\u001b[0m \u001b[1;33m**\u001b[0m\u001b[0mkwargs\u001b[0m\u001b[1;33m)\u001b[0m\u001b[1;33m\u001b[0m\u001b[0m\n\u001b[0;32m   1833\u001b[0m     return _methods._sum(a, axis=axis, dtype=dtype,\n\u001b[1;32m-> 1834\u001b[1;33m                          out=out, **kwargs)\n\u001b[0m\u001b[0;32m   1835\u001b[0m \u001b[1;33m\u001b[0m\u001b[0m\n\u001b[0;32m   1836\u001b[0m \u001b[1;33m\u001b[0m\u001b[0m\n",
      "\u001b[1;32mC:\\SourabhRaj\\software\\Anaconda\\lib\\site-packages\\numpy\\core\\_methods.py\u001b[0m in \u001b[0;36m_sum\u001b[1;34m(a, axis, dtype, out, keepdims)\u001b[0m\n\u001b[0;32m     30\u001b[0m \u001b[1;33m\u001b[0m\u001b[0m\n\u001b[0;32m     31\u001b[0m \u001b[1;32mdef\u001b[0m \u001b[0m_sum\u001b[0m\u001b[1;33m(\u001b[0m\u001b[0ma\u001b[0m\u001b[1;33m,\u001b[0m \u001b[0maxis\u001b[0m\u001b[1;33m=\u001b[0m\u001b[1;32mNone\u001b[0m\u001b[1;33m,\u001b[0m \u001b[0mdtype\u001b[0m\u001b[1;33m=\u001b[0m\u001b[1;32mNone\u001b[0m\u001b[1;33m,\u001b[0m \u001b[0mout\u001b[0m\u001b[1;33m=\u001b[0m\u001b[1;32mNone\u001b[0m\u001b[1;33m,\u001b[0m \u001b[0mkeepdims\u001b[0m\u001b[1;33m=\u001b[0m\u001b[1;32mFalse\u001b[0m\u001b[1;33m)\u001b[0m\u001b[1;33m:\u001b[0m\u001b[1;33m\u001b[0m\u001b[0m\n\u001b[1;32m---> 32\u001b[1;33m     \u001b[1;32mreturn\u001b[0m \u001b[0mumr_sum\u001b[0m\u001b[1;33m(\u001b[0m\u001b[0ma\u001b[0m\u001b[1;33m,\u001b[0m \u001b[0maxis\u001b[0m\u001b[1;33m,\u001b[0m \u001b[0mdtype\u001b[0m\u001b[1;33m,\u001b[0m \u001b[0mout\u001b[0m\u001b[1;33m,\u001b[0m \u001b[0mkeepdims\u001b[0m\u001b[1;33m)\u001b[0m\u001b[1;33m\u001b[0m\u001b[0m\n\u001b[0m\u001b[0;32m     33\u001b[0m \u001b[1;33m\u001b[0m\u001b[0m\n\u001b[0;32m     34\u001b[0m \u001b[1;32mdef\u001b[0m \u001b[0m_prod\u001b[0m\u001b[1;33m(\u001b[0m\u001b[0ma\u001b[0m\u001b[1;33m,\u001b[0m \u001b[0maxis\u001b[0m\u001b[1;33m=\u001b[0m\u001b[1;32mNone\u001b[0m\u001b[1;33m,\u001b[0m \u001b[0mdtype\u001b[0m\u001b[1;33m=\u001b[0m\u001b[1;32mNone\u001b[0m\u001b[1;33m,\u001b[0m \u001b[0mout\u001b[0m\u001b[1;33m=\u001b[0m\u001b[1;32mNone\u001b[0m\u001b[1;33m,\u001b[0m \u001b[0mkeepdims\u001b[0m\u001b[1;33m=\u001b[0m\u001b[1;32mFalse\u001b[0m\u001b[1;33m)\u001b[0m\u001b[1;33m:\u001b[0m\u001b[1;33m\u001b[0m\u001b[0m\n",
      "\u001b[1;31mTypeError\u001b[0m: 'numpy.float64' object cannot be interpreted as an integer"
     ]
    }
   ],
   "source": [
    "import numpy as np,utils\n",
    "import itertools\n",
    "Y = numpy.array(X)\n",
    "Z = 0\n",
    "for x in itertools.product([-1, 1], repeat=10):\n",
    "    Z = np.sum(Z,np.exp(np.dot(x,utils.w_big)))\n",
    "    print (Z)\n",
    "    print (numpy.dot(x,utils.w_big))\n",
    "    print (numpy.exp(numpy.dot(x,utils.w_big)))\n"
   ]
  },
  {
   "cell_type": "code",
   "execution_count": null,
   "metadata": {
    "collapsed": true
   },
   "outputs": [],
   "source": []
  },
  {
   "cell_type": "code",
   "execution_count": 87,
   "metadata": {},
   "outputs": [
    {
     "name": "stdout",
     "output_type": "stream",
     "text": [
      "[ -78.56358555  -66.8051486    -5.56787983 -151.24861916  -22.35718314\n",
      " -182.63145993 -392.6782912   -12.32630758 -107.45476776  -50.08812312\n",
      "  -30.75112553   -0.72683619 -149.01170931  -27.24348233  -13.20070593\n",
      "  -12.6383885  -325.5599921  -319.94115931  -67.70314825  -10.20416973]\n",
      "       -inf\n"
     ]
    },
    {
     "name": "stderr",
     "output_type": "stream",
     "text": [
      "C:\\SourabhRaj\\software\\Anaconda\\lib\\site-packages\\ipykernel_launcher.py:25: RuntimeWarning: divide by zero encountered in log\n"
     ]
    }
   ],
   "source": [
    "import numpy,numpy.linalg,utils\n",
    "\n",
    "def logp(X,m,S):\n",
    "    \n",
    "    # Find the number of dimensions from the data vector\n",
    "    d = X.shape[1]\n",
    "    \n",
    "    # Invert the covariance matrix\n",
    "    Sinv = numpy.linalg.inv(S)\n",
    "    \n",
    "    # Compute the quadratic terms for all data points\n",
    "    Q = -0.5*(numpy.dot(X-m,Sinv)*(X-m)).sum(axis=1)\n",
    "    print (Q)\n",
    "    \n",
    "    # Raise them quadratic terms to the exponential\n",
    "    Q = numpy.exp(Q)\n",
    "    \n",
    "    # Divide by the terms in the denominator\n",
    "    P = Q / numpy.sqrt((2*numpy.pi)**d * numpy.linalg.det(S))\n",
    "    \n",
    "    # Take the product of the probability of each data points\n",
    "    Pprod = numpy.prod(P)\n",
    "    \n",
    "    # Return the log-probability\n",
    "    return numpy.log(Pprod)\n",
    "\n",
    "\n",
    "\n",
    "print('%11.4f'%logp(utils.X2,utils.m2,utils.S2))\n"
   ]
  },
  {
   "cell_type": "code",
   "execution_count": null,
   "metadata": {
    "collapsed": true
   },
   "outputs": [],
   "source": []
  }
 ],
 "metadata": {
  "kernelspec": {
   "display_name": "Python 3",
   "language": "python",
   "name": "python3"
  },
  "language_info": {
   "codemirror_mode": {
    "name": "ipython",
    "version": 3
   },
   "file_extension": ".py",
   "mimetype": "text/x-python",
   "name": "python",
   "nbconvert_exporter": "python",
   "pygments_lexer": "ipython3",
   "version": "3.6.3"
  }
 },
 "nbformat": 4,
 "nbformat_minor": 2
}
