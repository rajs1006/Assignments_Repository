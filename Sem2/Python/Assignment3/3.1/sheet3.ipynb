{
 "cells": [
  {
   "cell_type": "markdown",
   "metadata": {},
   "source": [
    "## Before submitting\n",
    "1. Before you turn this problem in, make sure everything runs as expected. First, **restart the kernel** (in the menubar, select Kernel$\\rightarrow$Restart) and then **run all cells** (in the menubar, select Cell$\\rightarrow$Run All).\n",
    "\n",
    "2. Make sure that no assertions fail or exceptions occur, otherwise points will be subtracted.\n",
    "\n",
    "3. Please submit only the `*.ipynb` file.\n",
    "\n",
    "4. Make sure you fill in any place that says `YOUR CODE HERE` or \"YOUR ANSWER HERE\". Edit only between `YOUR CODE HERE` and `END YOUR CODE`.\n",
    "\n",
    "5. Fill your group name and collaborators below:"
   ]
  },
  {
   "cell_type": "code",
   "execution_count": 5,
   "metadata": {
    "collapsed": true
   },
   "outputs": [],
   "source": [
    "GROUPNAME = \"\"\n",
    "COLLABORATORS = \"\""
   ]
  },
  {
   "cell_type": "markdown",
   "metadata": {},
   "source": [
    "---"
   ]
  },
  {
   "cell_type": "markdown",
   "metadata": {
    "deletable": false,
    "editable": false,
    "nbgrader": {
     "checksum": "492198d352643668ab5911032e3e2032",
     "grade": false,
     "grade_id": "cell-8c6240920f08e7c8",
     "locked": true,
     "schema_version": 1,
     "solution": false
    }
   },
   "source": [
    "# Sheet 3: Rounding, Overflow, Linear Algebra\n",
    "\n",
    "In this exercise sheet, we look at various sources of numerical overflow when executing Python and numpy code for large input values, and how to efficiently handle them, for example, by using numpy special functions."
   ]
  },
  {
   "cell_type": "code",
   "execution_count": 6,
   "metadata": {},
   "outputs": [
    {
     "ename": "ModuleNotFoundError",
     "evalue": "No module named 'utils'",
     "output_type": "error",
     "traceback": [
      "\u001b[1;31m---------------------------------------------------------------------------\u001b[0m",
      "\u001b[1;31mModuleNotFoundError\u001b[0m                       Traceback (most recent call last)",
      "\u001b[1;32m<ipython-input-6-25e8a353eff2>\u001b[0m in \u001b[0;36m<module>\u001b[1;34m()\u001b[0m\n\u001b[1;32m----> 1\u001b[1;33m \u001b[1;32mimport\u001b[0m \u001b[0mnumpy\u001b[0m\u001b[1;33m,\u001b[0m\u001b[0mutils\u001b[0m\u001b[1;33m\u001b[0m\u001b[0m\n\u001b[0m\u001b[0;32m      2\u001b[0m \u001b[1;32mimport\u001b[0m \u001b[0mnumpy\u001b[0m \u001b[1;32mas\u001b[0m \u001b[0mnp\u001b[0m\u001b[1;33m\u001b[0m\u001b[0m\n",
      "\u001b[1;31mModuleNotFoundError\u001b[0m: No module named 'utils'"
     ]
    }
   ],
   "source": [
    "import numpy,utils\n",
    "import numpy as np"
   ]
  },
  {
   "cell_type": "markdown",
   "metadata": {},
   "source": [
    "## Building a robust \"softplus\" nonlinear function (30 P)\n",
    "\n",
    "The softplus function is defined as:\n",
    "\n",
    "$$\n",
    "\\mathrm{softplus}(x) = \\log(1+\\exp(x)).\n",
    "$$\n",
    "\n",
    "It intervenes as elementary computation in certain machine learning models such as neural networks. Plotting it gives the following curve\n",
    "\n",
    "![plot generated using fooplot.com](softplus.png)\n",
    "\n",
    "where the function tends to zero for very negative input values and tends to the identity for very positive input values."
   ]
  },
  {
   "cell_type": "code",
   "execution_count": null,
   "metadata": {
    "collapsed": true
   },
   "outputs": [],
   "source": [
    "def softplus(z): return numpy.log(1+numpy.exp(z))"
   ]
  },
  {
   "cell_type": "markdown",
   "metadata": {},
   "source": [
    "We consider an input vector from the module `utils` containing varying values between 1 and 10000. We would like to apply the `softplus` function to all of its element in an element-wise manner."
   ]
  },
  {
   "cell_type": "code",
   "execution_count": null,
   "metadata": {},
   "outputs": [],
   "source": [
    "X = utils.softplus_inputs\n",
    "print(X)"
   ]
  },
  {
   "cell_type": "markdown",
   "metadata": {},
   "source": [
    "We choose these large values in order to test whether the behavior of the function is correct in all regimes of the function, in particular, for very small or very large values. The code below applies the `softplus` function directly to the vector of inputs and then prints for all cases the input and the corresponding function output:"
   ]
  },
  {
   "cell_type": "code",
   "execution_count": null,
   "metadata": {},
   "outputs": [],
   "source": [
    "Y = softplus(X)\n",
    "for x,y in zip(X,Y):\n",
    "    print('softplus(%11.4f) = %11.4f'%(x,y))"
   ]
  },
  {
   "cell_type": "markdown",
   "metadata": {},
   "source": [
    "For large input values, the softplus function returns `inf` whereas analysis of that function tells us that it should compute the identity. Let's now try to apply the softplus function one element at a time, to see whether the problem comes from numpy arrays:"
   ]
  },
  {
   "cell_type": "code",
   "execution_count": null,
   "metadata": {},
   "outputs": [],
   "source": [
    "for x in X:\n",
    "    y = softplus(x)\n",
    "    print('softplus(%11.4f) = %11.4f'%(x,y))"
   ]
  },
  {
   "cell_type": "markdown",
   "metadata": {},
   "source": [
    "Unfortunately, the result is the same. We observe that the function always stops working when its output approaches 1000, even though the input was given in high precision `float64`."
   ]
  },
  {
   "cell_type": "markdown",
   "metadata": {},
   "source": [
    "* Create an alternative function for `softplus_robust` that applies to input scalars and that correctly applies to values that can be much larger than 1000 (e.g. billions or more). Your function can be written in Python directly and does not need numpy parallelization."
   ]
  },
  {
   "cell_type": "code",
   "execution_count": null,
   "metadata": {
    "collapsed": true,
    "deletable": false,
    "nbgrader": {
     "checksum": "3e232ee4c214c2190676b91f8068b9f6",
     "grade": false,
     "grade_id": "cell-93b1547259c034bf",
     "locked": false,
     "schema_version": 1,
     "solution": true
    }
   },
   "outputs": [],
   "source": [
    "def softplus_robust(x):\n",
    "    # >>>>> YOUR CODE HERE\n",
    "    # another aproach\n",
    "    #if (x > 100):\n",
    "    #    return x\n",
    "    #if (x < -10):\n",
    "    #    return 0\n",
    "    #return softplus(x)\n",
    "    if x<0 :\n",
    "      return numpy.log(1 + numpy.exp(x));\n",
    "    else :\n",
    "      return x + numpy.log(numpy.exp(-x) +1);\n",
    "    # <<<<< END YOUR CODE"
   ]
  },
  {
   "cell_type": "code",
   "execution_count": null,
   "metadata": {
    "deletable": false,
    "editable": false,
    "nbgrader": {
     "checksum": "ec987820a17c93f4f940236c46e145ce",
     "grade": true,
     "grade_id": "cell-fb74b76bf3187fe1",
     "locked": true,
     "points": 15,
     "schema_version": 1,
     "solution": false
    }
   },
   "outputs": [],
   "source": [
    "# Verify your function\n",
    "for x in X:\n",
    "    y = softplus_robust(x)\n",
    "    print('softplus(%11.4f) = %11.4f'%(x,y))\n"
   ]
  },
  {
   "cell_type": "markdown",
   "metadata": {},
   "source": [
    "As we have seen in the previous exercise sheet, the problem of functions that apply to scalars only is that they are less efficient than functions that apply to vectors directly. Therefore, we would like to handle the rounding issue directly at the vector level.\n",
    "\n",
    "* Create a new softplus function that applies to vectors and that has the desired behavior for large input values. Your function should be fast for large input vectors (i.e. it is not appropriate to use an inner Python loop inside the function)."
   ]
  },
  {
   "cell_type": "code",
   "execution_count": null,
   "metadata": {
    "collapsed": true,
    "deletable": false,
    "nbgrader": {
     "checksum": "fd4fed755a9ea681e7272b686de05e5d",
     "grade": false,
     "grade_id": "cell-c47d1d41d1970a7d",
     "locked": false,
     "schema_version": 1,
     "solution": true
    }
   },
   "outputs": [],
   "source": [
    "def softplus_robust_vec(X):\n",
    "    # >>>>> YOUR CODE HERE\n",
    "    softplus_vectorised = np.vectorize(softplus_robust)\n",
    "    return softplus_vectorised(X)\n",
    "    # <<<<< END YOUR CODE"
   ]
  },
  {
   "cell_type": "code",
   "execution_count": null,
   "metadata": {
    "deletable": false,
    "editable": false,
    "nbgrader": {
     "checksum": "15d5890cabd91bc08ef0ff43f33fece5",
     "grade": true,
     "grade_id": "cell-cfd426eaca3d5169",
     "locked": true,
     "points": 15,
     "schema_version": 1,
     "solution": false
    }
   },
   "outputs": [],
   "source": [
    "# Verify your function\n",
    "Y = softplus_robust_vec(X)\n",
    "Tuples = tuple(zip(X,Y))\n",
    "for tup in Tuples:\n",
    "    print('softplus(%11.4f) = %11.4f'%tup)"
   ]
  },
  {
   "cell_type": "markdown",
   "metadata": {},
   "source": [
    "## Computing a partition function (40 P)\n",
    "\n",
    "We consider a discrete probability distribution of type\n",
    "$$\n",
    "p(\\boldsymbol{x};\\boldsymbol{w}) = \\frac{1}{Z(\\boldsymbol{w})} \\exp(\\boldsymbol{x}^\\top \\boldsymbol{w})\n",
    "$$\n",
    "where $\\boldsymbol{x} \\in \\{-1,1\\}^{10}$ is an observation, and $\\boldsymbol{w} \\in \\mathbb{R}^{10}$ is a vector of parameters. The term $Z(\\boldsymbol{w})$ is called the partition function and is chosen such that the probability distribution sums to 1. That is, the equation:\n",
    "$$\n",
    "\\sum_{\\boldsymbol{x} \\in \\{-1,1\\}^{10}} p(\\boldsymbol{x};\\boldsymbol{w}) = 1\n",
    "$$\n",
    "must be satisfied. Below is a simple method that computes the log of the partition function $Z(\\boldsymbol{w})$ for various choices of parameter vectors. The considered parameters (`w_small`, `w_medium`, and `w_large`) are increasingly large (and thus problematic), and can be found in the file `utils.py`."
   ]
  },
  {
   "cell_type": "code",
   "execution_count": null,
   "metadata": {},
   "outputs": [],
   "source": [
    "import numpy,utils\n",
    "import itertools\n",
    "\n",
    "def getlogZ(w):\n",
    "    Z = 0\n",
    "    for x in itertools.product([-1, 1], repeat=10):\n",
    "        Z += numpy.exp(numpy.dot(x,w))\n",
    "    return numpy.log(Z)\n",
    "\n",
    "print('%11.4f'%getlogZ(utils.w_small))\n",
    "print('%11.4f'%getlogZ(utils.w_medium))\n",
    "print('%11.4f'%getlogZ(utils.w_big))"
   ]
  },
  {
   "cell_type": "markdown",
   "metadata": {},
   "source": [
    "We can observe from these results, that for parameter vectors with large values (e.g. `utils.w_big`), the exponential function overflows, and thus, we do not obtain a correct value for the logarithm of `Z`.\n",
    "\n",
    "* Implement an improved function  `getlogZ_robust` that avoids the overflow problem, and evaluates the partition function for the same parameters."
   ]
  },
  {
   "cell_type": "code",
   "execution_count": null,
   "metadata": {
    "collapsed": true,
    "deletable": false,
    "nbgrader": {
     "checksum": "729c10aca80084f06fee3469d6ae6dde",
     "grade": false,
     "grade_id": "cell-00f9c42442638723",
     "locked": false,
     "schema_version": 1,
     "solution": true
    }
   },
   "outputs": [],
   "source": [
    "import itertools\n",
    "\n",
    "def getlogZ_robust(w):\n",
    "    # >>>>> YOUR CODE HERE\n",
    "    # another aproach\n",
    "    #Z = 0\n",
    "    #X = np.arange(1024, dtype='float64')\n",
    "    #i = 0\n",
    "    #for x in itertools.product([-1, 1], repeat=10):\n",
    "    #    X[i] = numpy.dot(x,w)\n",
    "    #    i+=1\n",
    "    #xmax = np.max(X)\n",
    "    #for x in X:\n",
    "    #    Z += numpy.exp(x - xmax)\n",
    "    #return xmax + numpy.log(Z)\n",
    "    z = 0\n",
    "    for x in itertools.product([-1, 1], repeat=10):\n",
    "        z = np.logaddexp(z, np.dot(x, w))\n",
    "    return z;\n",
    "    # <<<<< END YOUR CODE"
   ]
  },
  {
   "cell_type": "code",
   "execution_count": null,
   "metadata": {
    "deletable": false,
    "editable": false,
    "nbgrader": {
     "checksum": "adc37dc7367339bdd22557ee0e5b2f39",
     "grade": true,
     "grade_id": "cell-4a28c4a0b78d1e03",
     "locked": true,
     "points": 20,
     "schema_version": 1,
     "solution": false
    }
   },
   "outputs": [],
   "source": [
    "# Verify your function\n",
    "print('%11.4f'%getlogZ_robust(utils.w_small))\n",
    "print('%11.4f'%getlogZ_robust(utils.w_medium))\n",
    "print('%11.4f'%getlogZ_robust(utils.w_big))"
   ]
  },
  {
   "cell_type": "markdown",
   "metadata": {},
   "source": [
    "* For the model with parameter `utils.w_big`, evaluate the log-probability of the binary vectors contained in the list `itertools.product([-1, 1], repeat=10)`, and return a `numpy` array of the indices (starting from 0) of those that have probability greater or equal to 0.001."
   ]
  },
  {
   "cell_type": "code",
   "execution_count": null,
   "metadata": {
    "collapsed": true,
    "deletable": false,
    "nbgrader": {
     "checksum": "c3d679282c8dfd939e8b36ec227d78c4",
     "grade": false,
     "grade_id": "cell-f2f50a11749c5d3e",
     "locked": false,
     "schema_version": 1,
     "solution": true
    }
   },
   "outputs": [],
   "source": [
    "def important_indexes(tol = 0.001):\n",
    "    Z = getlogZ_robust(utils.w_big)\n",
    "    # >>>>> YOUR CODE HERE\n",
    "    P = list()\n",
    "    count = 0;\n",
    "    for x in itertools.product([-1, 1], repeat=10):\n",
    "        # log p = l\n",
    "        p = numpy.exp(np.dot(x,utils.w_big) - Z)\n",
    "        if p >= tol :\n",
    "            P.append(count)\n",
    "        count+=1;\n",
    "    return P;\n",
    "    # <<<<< END YOUR CODE"
   ]
  },
  {
   "cell_type": "code",
   "execution_count": null,
   "metadata": {
    "deletable": false,
    "editable": false,
    "nbgrader": {
     "checksum": "f3773716128306edd651d73ee9c486f6",
     "grade": true,
     "grade_id": "cell-89878affaff6ee2e",
     "locked": true,
     "points": 20,
     "schema_version": 1,
     "solution": false
    }
   },
   "outputs": [],
   "source": [
    "# Verify your function\n",
    "print(important_indexes())"
   ]
  },
  {
   "cell_type": "markdown",
   "metadata": {},
   "source": [
    "## Probability of generating data from a Gaussian model (30 P)\n",
    "\n",
    "Consider a multivariate Gaussian distribution of mean vector `m` and covariance `S`. The probability associated to a vector `x` is given by:\n",
    "\n",
    "$$\n",
    "p(\\boldsymbol{x};(\\boldsymbol{m},S)) = \\frac{1}{\\sqrt{(2\\pi)^d \\mathrm{det}(S)}} \\exp \\Big( - \\frac12 (\\boldsymbol{x}-\\boldsymbol{m})^\\top S^{-1} (\\boldsymbol{x}-\\boldsymbol{m})\\Big)\n",
    "$$\n",
    "\n",
    "We consider the calculation of the probability of observing a certain dataset \n",
    "\n",
    "$$\n",
    "\\mathcal{D} = (\\boldsymbol{x}^{(1)},\\dots,\\boldsymbol{x}^{(N)})\n",
    "$$\n",
    "\n",
    "assuming the data is generated according to a Gaussian distribution of fixed parameters $\\boldsymbol{m}$ and $S$. Such probability density is given by the formula:\n",
    "\n",
    "$$\n",
    "\\log P(\\mathcal{D};(\\boldsymbol{m},S)) = \\log \\prod_{i=1}^N p(\\boldsymbol{x}^{(i)};(\\boldsymbol{m},S))\n",
    "$$\n",
    "\n",
    "The function below implements such function:"
   ]
  },
  {
   "cell_type": "code",
   "execution_count": null,
   "metadata": {},
   "outputs": [],
   "source": [
    "import numpy,numpy.linalg,utils\n",
    "\n",
    "def logp(X,m,S):\n",
    "    \n",
    "    # Find the number of dimensions from the data vector\n",
    "    d = X.shape[1]\n",
    "    \n",
    "    # Invert the covariance matrix\n",
    "    Sinv = numpy.linalg.inv(S)\n",
    "    \n",
    "    # Compute the quadratic terms for all data points\n",
    "    Q = -0.5*(numpy.dot(X-m,Sinv)*(X-m)).sum(axis=1)\n",
    "    \n",
    "    # Raise them quadratic terms to the exponential\n",
    "    Q = numpy.exp(Q)\n",
    "    \n",
    "    # Divide by the terms in the denominator\n",
    "    P = Q / numpy.sqrt((2*numpy.pi)**d * numpy.linalg.det(S))\n",
    "    \n",
    "    # Take the product of the probability of each data points\n",
    "    Pprod = numpy.prod(P)\n",
    "    \n",
    "    # Return the log-probability\n",
    "    return numpy.log(Pprod)\n"
   ]
  },
  {
   "cell_type": "markdown",
   "metadata": {},
   "source": [
    "Evaluation of this function for various datasets and parameters provided in the file `utils.py` gives the following probabilities:"
   ]
  },
  {
   "cell_type": "code",
   "execution_count": null,
   "metadata": {},
   "outputs": [],
   "source": [
    "print('%11.4f'%logp(utils.X1,utils.m1,utils.S1))\n",
    "print('%11.4f'%logp(utils.X2,utils.m2,utils.S2))\n",
    "print('%11.4f'%logp(utils.X3,utils.m3,utils.S3))"
   ]
  },
  {
   "cell_type": "markdown",
   "metadata": {},
   "source": [
    "This function is numerically instable for multiple reasons. The product of many probabilities, the inversion of a large covariance matrix, and the computation of its determinant, are all potential causes for overflow. Thus, we would like to find a numerically robust way of performing each of these.\n",
    "\n",
    "* Implement a numerically stable version of the function `logp`\n",
    "* Evaluate it on the same datasets and parameters as the function `logp`"
   ]
  },
  {
   "cell_type": "code",
   "execution_count": null,
   "metadata": {
    "collapsed": true,
    "deletable": false,
    "nbgrader": {
     "checksum": "3f88d5abdfac12cf69c160e1a404826d",
     "grade": false,
     "grade_id": "cell-a020bd733a8339e3",
     "locked": false,
     "schema_version": 1,
     "solution": true
    }
   },
   "outputs": [],
   "source": [
    "def logp_robust(X,m,S):\n",
    "    # >>>>> YOUR CODE HERE\n",
    "    \n",
    "    d = X.shape[1]\n",
    "    \n",
    "    Sinv = numpy.linalg.inv(S)\n",
    "    \n",
    "    Q = -0.5*(numpy.dot(X-m,Sinv)*(X-m)).sum(axis=1)\n",
    "    \n",
    "    # ln( (denom*exp(X)).productAll() ) = (ln(denom*exp(X))).sumAll() = (ln(denom) + X).sumAll()\n",
    "    \n",
    "    denom = numpy.log(1/numpy.sqrt((2*numpy.pi)**d * numpy.linalg.det(S)))\n",
    "    \n",
    "    return numpy.sum(Q+denom)\n",
    "    # <<<<< END YOUR CODE"
   ]
  },
  {
   "cell_type": "code",
   "execution_count": null,
   "metadata": {
    "deletable": false,
    "editable": false,
    "nbgrader": {
     "checksum": "0b6c435822e723775df03c3ffa3f9063",
     "grade": true,
     "grade_id": "cell-4f1273a1bd8fc128",
     "locked": true,
     "points": 30,
     "schema_version": 1,
     "solution": false
    }
   },
   "outputs": [],
   "source": [
    "# Verify your function\n",
    "print('%11.4f'%logp_robust(utils.X1,utils.m1,utils.S1))\n",
    "print('%11.4f'%logp_robust(utils.X2,utils.m2,utils.S2))\n",
    "print('%11.4f'%logp_robust(utils.X3,utils.m3,utils.S3))"
   ]
  },
  {
   "cell_type": "code",
   "execution_count": 10,
   "metadata": {},
   "outputs": [
    {
     "name": "stdout",
     "output_type": "stream",
     "text": [
      "['banana' 'cherry' 'cherry' 'banana' 'banana' 'cherry' 'watermelon' 'grape'\n",
      " 'lemon' 'apple']\n"
     ]
    }
   ],
   "source": [
    "fruits = ['watermelon', 'apple', 'grape', 'grapefruit', 'lemon', 'banana', 'cherry']\n",
    "print (numpy.random.choice(fruits,10))"
   ]
  },
  {
   "cell_type": "code",
   "execution_count": 19,
   "metadata": {},
   "outputs": [
    {
     "name": "stdout",
     "output_type": "stream",
     "text": [
      "1\n",
      "[ 0.    0.05  0.75  0.8   0.85  0.9   0.95] [ 0.05  0.75  0.8   0.85  0.9   0.95  1.  ] 0.4805172606912461 [False  True False False False False False]\n"
     ]
    }
   ],
   "source": [
    "p = [0.05, 0.70, 0.05, 0.05, 0.05, 0.05, 0.05]\n",
    "l= numpy.cumsum([0] + p[:-1])\n",
    "h= numpy.cumsum(p)\n",
    "\n",
    "u = numpy.random.uniform(0,1)\n",
    "s= numpy.logical_and(u>l , u<h)\n",
    "print (numpy.argmax(s))\n",
    "print (l,h,u,s)"
   ]
  },
  {
   "cell_type": "code",
   "execution_count": 20,
   "metadata": {},
   "outputs": [
    {
     "ename": "NameError",
     "evalue": "name 'na' is not defined",
     "output_type": "error",
     "traceback": [
      "\u001b[1;31m---------------------------------------------------------------------------\u001b[0m",
      "\u001b[1;31mNameError\u001b[0m                                 Traceback (most recent call last)",
      "\u001b[1;32m<ipython-input-20-d85a873521b0>\u001b[0m in \u001b[0;36m<module>\u001b[1;34m()\u001b[0m\n\u001b[0;32m     11\u001b[0m \u001b[1;33m\u001b[0m\u001b[0m\n\u001b[0;32m     12\u001b[0m \u001b[0mR\u001b[0m \u001b[1;33m=\u001b[0m \u001b[0mnumpy\u001b[0m\u001b[1;33m.\u001b[0m\u001b[0mrandom\u001b[0m\u001b[1;33m.\u001b[0m\u001b[0muniform\u001b[0m\u001b[1;33m(\u001b[0m\u001b[1;36m0\u001b[0m\u001b[1;33m,\u001b[0m \u001b[1;36m1\u001b[0m\u001b[1;33m,\u001b[0m \u001b[1;33m(\u001b[0m\u001b[1;36m3\u001b[0m\u001b[1;33m,\u001b[0m \u001b[1;36m8\u001b[0m\u001b[1;33m)\u001b[0m\u001b[1;33m)\u001b[0m\u001b[1;33m\u001b[0m\u001b[0m\n\u001b[1;32m---> 13\u001b[1;33m \u001b[0mS\u001b[0m \u001b[1;33m=\u001b[0m \u001b[0mnumpy\u001b[0m\u001b[1;33m.\u001b[0m\u001b[0mlogical_and\u001b[0m\u001b[1;33m(\u001b[0m\u001b[1;33m(\u001b[0m\u001b[0mR\u001b[0m\u001b[1;33m[\u001b[0m\u001b[1;33m:\u001b[0m\u001b[1;33m,\u001b[0m \u001b[1;33m:\u001b[0m\u001b[1;33m,\u001b[0m \u001b[0mna\u001b[0m\u001b[1;33m]\u001b[0m \u001b[1;33m>\u001b[0m \u001b[0mL\u001b[0m\u001b[1;33m[\u001b[0m\u001b[1;33m:\u001b[0m\u001b[1;33m,\u001b[0m \u001b[0mna\u001b[0m\u001b[1;33m,\u001b[0m \u001b[1;33m:\u001b[0m\u001b[1;33m]\u001b[0m\u001b[1;33m)\u001b[0m\u001b[1;33m,\u001b[0m \u001b[1;33m(\u001b[0m\u001b[0mR\u001b[0m\u001b[1;33m[\u001b[0m\u001b[1;33m:\u001b[0m\u001b[1;33m,\u001b[0m \u001b[1;33m:\u001b[0m\u001b[1;33m,\u001b[0m \u001b[0mna\u001b[0m\u001b[1;33m]\u001b[0m \u001b[1;33m<\u001b[0m \u001b[0mH\u001b[0m\u001b[1;33m[\u001b[0m\u001b[1;33m:\u001b[0m\u001b[1;33m,\u001b[0m \u001b[0mna\u001b[0m\u001b[1;33m,\u001b[0m \u001b[1;33m:\u001b[0m\u001b[1;33m]\u001b[0m\u001b[1;33m)\u001b[0m\u001b[1;33m)\u001b[0m\u001b[1;33m\u001b[0m\u001b[0m\n\u001b[0m\u001b[0;32m     14\u001b[0m \u001b[1;31m# Broadcasting shapes\u001b[0m\u001b[1;33m\u001b[0m\u001b[1;33m\u001b[0m\u001b[0m\n\u001b[0;32m     15\u001b[0m \u001b[0mprint\u001b[0m\u001b[1;33m(\u001b[0m\u001b[0mR\u001b[0m\u001b[1;33m[\u001b[0m\u001b[1;33m:\u001b[0m\u001b[1;33m,\u001b[0m \u001b[1;33m:\u001b[0m\u001b[1;33m,\u001b[0m \u001b[0mna\u001b[0m\u001b[1;33m]\u001b[0m\u001b[1;33m.\u001b[0m\u001b[0mshape\u001b[0m\u001b[1;33m,\u001b[0m \u001b[0mL\u001b[0m\u001b[1;33m[\u001b[0m\u001b[1;33m:\u001b[0m\u001b[1;33m,\u001b[0m \u001b[0mna\u001b[0m\u001b[1;33m,\u001b[0m \u001b[1;33m:\u001b[0m\u001b[1;33m]\u001b[0m\u001b[1;33m.\u001b[0m\u001b[0mshape\u001b[0m\u001b[1;33m,\u001b[0m \u001b[0mS\u001b[0m\u001b[1;33m.\u001b[0m\u001b[0mshape\u001b[0m\u001b[1;33m)\u001b[0m\u001b[1;33m\u001b[0m\u001b[0m\n",
      "\u001b[1;31mNameError\u001b[0m: name 'na' is not defined"
     ]
    }
   ],
   "source": []
  },
  {
   "cell_type": "code",
   "execution_count": null,
   "metadata": {
    "collapsed": true
   },
   "outputs": [],
   "source": []
  }
 ],
 "metadata": {
  "kernelspec": {
   "display_name": "Python 3",
   "language": "python",
   "name": "python3"
  },
  "language_info": {
   "codemirror_mode": {
    "name": "ipython",
    "version": 3
   },
   "file_extension": ".py",
   "mimetype": "text/x-python",
   "name": "python",
   "nbconvert_exporter": "python",
   "pygments_lexer": "ipython3",
   "version": "3.6.3"
  }
 },
 "nbformat": 4,
 "nbformat_minor": 1
}
